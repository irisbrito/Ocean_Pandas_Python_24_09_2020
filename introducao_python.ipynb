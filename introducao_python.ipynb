{
  "nbformat": 4,
  "nbformat_minor": 0,
  "metadata": {
    "colab": {
      "name": "aula-introducao-python.ipynb",
      "provenance": [],
      "collapsed_sections": [],
      "mount_file_id": "1irHV9yi1TNfsaXCq-Fpbh5z87S9gm6XI",
      "authorship_tag": "ABX9TyOXPPkxX0JIx0GYssGXy0D8",
      "include_colab_link": true
    },
    "kernelspec": {
      "name": "python3",
      "display_name": "Python 3"
    }
  },
  "cells": [
    {
      "cell_type": "markdown",
      "metadata": {
        "id": "view-in-github",
        "colab_type": "text"
      },
      "source": [
        "<a href=\"https://colab.research.google.com/github/irisbrito/Ocean_Pandas_Python_24_09_2020/blob/master/introducao_python.ipynb\" target=\"_parent\"><img src=\"https://colab.research.google.com/assets/colab-badge.svg\" alt=\"Open In Colab\"/></a>"
      ]
    },
    {
      "cell_type": "markdown",
      "metadata": {
        "id": "2eqTQoqrWXZW"
      },
      "source": [
        "## Projeto desenvolvido no Laboratório de Ciência de Dados com Pandas e Python (24.09.2020) \n"
      ]
    },
    {
      "cell_type": "markdown",
      "metadata": {
        "id": "1KY5Tecomcb9"
      },
      "source": [
        "Introdução ao Python"
      ]
    },
    {
      "cell_type": "code",
      "metadata": {
        "id": "MJYtZAvsUkZf",
        "outputId": "f933a719-2a4c-4f24-c104-0fac8666fb5b",
        "colab": {
          "base_uri": "https://localhost:8080/",
          "height": 34
        }
      },
      "source": [
        "print(\"Hello world!\")"
      ],
      "execution_count": 1,
      "outputs": [
        {
          "output_type": "stream",
          "text": [
            "Hello world!\n"
          ],
          "name": "stdout"
        }
      ]
    },
    {
      "cell_type": "code",
      "metadata": {
        "id": "UulQzlwhVwsd"
      },
      "source": [
        "minha_variavel =\"texto aqui\""
      ],
      "execution_count": 2,
      "outputs": []
    },
    {
      "cell_type": "code",
      "metadata": {
        "id": "lD0q_NOUX0KZ",
        "outputId": "9dbf58fa-2ed2-460a-d73f-daad46b38ab0",
        "colab": {
          "base_uri": "https://localhost:8080/",
          "height": 34
        }
      },
      "source": [
        "print(minha_variavel)"
      ],
      "execution_count": 3,
      "outputs": [
        {
          "output_type": "stream",
          "text": [
            "texto aqui\n"
          ],
          "name": "stdout"
        }
      ]
    },
    {
      "cell_type": "code",
      "metadata": {
        "id": "T23cmX8ZXzse"
      },
      "source": [
        "lista = [1, 2, 3, \"alo\", True, 1.2]"
      ],
      "execution_count": 5,
      "outputs": []
    },
    {
      "cell_type": "code",
      "metadata": {
        "id": "1UCcuNAjYk22",
        "outputId": "0d21fedf-1e0b-44b8-b83a-57028d357ea0",
        "colab": {
          "base_uri": "https://localhost:8080/",
          "height": 34
        }
      },
      "source": [
        "lista[5]"
      ],
      "execution_count": 6,
      "outputs": [
        {
          "output_type": "execute_result",
          "data": {
            "text/plain": [
              "1.2"
            ]
          },
          "metadata": {
            "tags": []
          },
          "execution_count": 6
        }
      ]
    },
    {
      "cell_type": "code",
      "metadata": {
        "id": "UDyoHbmUY3Zu"
      },
      "source": [
        "# adicionando item no fim da lista\n",
        "lista.append(\"novo item\")"
      ],
      "execution_count": 7,
      "outputs": []
    },
    {
      "cell_type": "code",
      "metadata": {
        "id": "sGmIOJfbZo53",
        "outputId": "951ed3eb-417c-4ea3-c808-7e249d7c1d8c",
        "colab": {
          "base_uri": "https://localhost:8080/",
          "height": 34
        }
      },
      "source": [
        "print(lista)"
      ],
      "execution_count": 8,
      "outputs": [
        {
          "output_type": "stream",
          "text": [
            "[1, 2, 3, 'alo', True, 1.2, 'novo item']\n"
          ],
          "name": "stdout"
        }
      ]
    },
    {
      "cell_type": "code",
      "metadata": {
        "id": "1irXmAWeZtdU"
      },
      "source": [
        "# adicionando item na lista junto com a posição que você quer colocar\n",
        "lista.insert(4, \"outro item\") #coloque na frente no numero 4 o novo item"
      ],
      "execution_count": 9,
      "outputs": []
    },
    {
      "cell_type": "code",
      "metadata": {
        "id": "LvZE-oi0aELu",
        "outputId": "4efbf473-887a-4923-dc0c-5eb124d4482d",
        "colab": {
          "base_uri": "https://localhost:8080/",
          "height": 34
        }
      },
      "source": [
        "print(lista)"
      ],
      "execution_count": 10,
      "outputs": [
        {
          "output_type": "stream",
          "text": [
            "[1, 2, 3, 'alo', 'outro item', True, 1.2, 'novo item']\n"
          ],
          "name": "stdout"
        }
      ]
    },
    {
      "cell_type": "code",
      "metadata": {
        "id": "COKUhU7uaKrN",
        "outputId": "58b89dc5-6475-4abf-93ef-ef949f410fe2",
        "colab": {
          "base_uri": "https://localhost:8080/",
          "height": 35
        }
      },
      "source": [
        "#removendo item da lista, indicando a posição do elemento\n",
        "lista.pop(4)"
      ],
      "execution_count": 11,
      "outputs": [
        {
          "output_type": "execute_result",
          "data": {
            "application/vnd.google.colaboratory.intrinsic+json": {
              "type": "string"
            },
            "text/plain": [
              "'outro item'"
            ]
          },
          "metadata": {
            "tags": []
          },
          "execution_count": 11
        }
      ]
    },
    {
      "cell_type": "code",
      "metadata": {
        "id": "0yV1F98saXq4",
        "outputId": "ce98f9c0-f4ee-4cf6-bc47-88a70bfe39da",
        "colab": {
          "base_uri": "https://localhost:8080/",
          "height": 34
        }
      },
      "source": [
        "#indo de um elemento até outro\n",
        "lista[1:3] #começa no numero que vc colocou primeiro e para no anterior ao que você definiu como final"
      ],
      "execution_count": 12,
      "outputs": [
        {
          "output_type": "execute_result",
          "data": {
            "text/plain": [
              "[2, 3]"
            ]
          },
          "metadata": {
            "tags": []
          },
          "execution_count": 12
        }
      ]
    },
    {
      "cell_type": "code",
      "metadata": {
        "id": "zFnYQIMmcCrr",
        "outputId": "0d44d2a7-710f-4892-de1f-8fc556aed796",
        "colab": {
          "base_uri": "https://localhost:8080/",
          "height": 34
        }
      },
      "source": [
        "#mostrar todos os itens do 0 até o último\n",
        "lista[0:]"
      ],
      "execution_count": null,
      "outputs": [
        {
          "output_type": "execute_result",
          "data": {
            "text/plain": [
              "[1, 2, 3, 'alo', 'outro item', 1.2, 'novo item']"
            ]
          },
          "metadata": {
            "tags": []
          },
          "execution_count": 17
        }
      ]
    },
    {
      "cell_type": "code",
      "metadata": {
        "id": "KjFFxxpxcCdj",
        "outputId": "492e7adb-f951-497b-d82c-d7b9a15c3f41",
        "colab": {
          "base_uri": "https://localhost:8080/",
          "height": 34
        }
      },
      "source": [
        "#selecionando os itens da lista de 2 em 2\n",
        "lista[::2]"
      ],
      "execution_count": 13,
      "outputs": [
        {
          "output_type": "execute_result",
          "data": {
            "text/plain": [
              "[1, 3, True, 'novo item']"
            ]
          },
          "metadata": {
            "tags": []
          },
          "execution_count": 13
        }
      ]
    },
    {
      "cell_type": "code",
      "metadata": {
        "id": "FKoGRia4cpU9"
      },
      "source": [
        "# Dicionário - faz uma coleção de dados, que não é ordenada. \n",
        "# funciona como a lista e a tupla\n",
        "# para cada elemento, a gente coloca \n",
        "meu_dicionario = {'idade':21,'filhos':0,'solteiro':True}"
      ],
      "execution_count": 14,
      "outputs": []
    },
    {
      "cell_type": "code",
      "metadata": {
        "id": "qxAWiLaRe3D6",
        "outputId": "138ac88d-c9ee-496b-acb0-835141b1d446",
        "colab": {
          "base_uri": "https://localhost:8080/",
          "height": 34
        }
      },
      "source": [
        "# exibir um elemento do dicionário\n",
        "meu_dicionario['idade']"
      ],
      "execution_count": 15,
      "outputs": [
        {
          "output_type": "execute_result",
          "data": {
            "text/plain": [
              "21"
            ]
          },
          "metadata": {
            "tags": []
          },
          "execution_count": 15
        }
      ]
    },
    {
      "cell_type": "code",
      "metadata": {
        "id": "jtQyhglzdMFh"
      },
      "source": [
        "# Tupla: funciona igual a lista, mas você não consegue mudar um valor\n",
        "# Garante que não ocorra a alteração de dados\n",
        "# a quantidade de elementos também não pode ser mudada\n",
        "a = 2,4,6,8"
      ],
      "execution_count": 16,
      "outputs": []
    },
    {
      "cell_type": "code",
      "metadata": {
        "id": "TwG88O_MdzNm"
      },
      "source": [
        "# Adicionando um elemento no dicionário\n",
        "meu_dicionario['sorvete'] = 'flocos'"
      ],
      "execution_count": 17,
      "outputs": []
    },
    {
      "cell_type": "code",
      "metadata": {
        "id": "381YMlfKfm6y",
        "outputId": "2d22bbde-5750-4b9a-8fec-2c328d3d9c95",
        "colab": {
          "base_uri": "https://localhost:8080/",
          "height": 34
        }
      },
      "source": [
        "# exibir tudo que tem no dicionário\n",
        "meu_dicionario"
      ],
      "execution_count": 18,
      "outputs": [
        {
          "output_type": "execute_result",
          "data": {
            "text/plain": [
              "{'filhos': 0, 'idade': 21, 'solteiro': True, 'sorvete': 'flocos'}"
            ]
          },
          "metadata": {
            "tags": []
          },
          "execution_count": 18
        }
      ]
    },
    {
      "cell_type": "code",
      "metadata": {
        "id": "Oqum8bYef2nu"
      },
      "source": [
        "lista_2 = [1, \"string\", [3, True], {'chave':1, 'listinha':(7,8,9)}]"
      ],
      "execution_count": 19,
      "outputs": []
    },
    {
      "cell_type": "code",
      "metadata": {
        "id": "lo7VOQ67gXAP",
        "outputId": "d50e84bb-e8a5-4c20-8640-2dc8685564fa",
        "colab": {
          "base_uri": "https://localhost:8080/",
          "height": 34
        }
      },
      "source": [
        "# Acessando um array que está dentro da lista\n",
        "lista_2[2] [1]"
      ],
      "execution_count": 20,
      "outputs": [
        {
          "output_type": "execute_result",
          "data": {
            "text/plain": [
              "True"
            ]
          },
          "metadata": {
            "tags": []
          },
          "execution_count": 20
        }
      ]
    },
    {
      "cell_type": "code",
      "metadata": {
        "id": "voEHyubmgmJx",
        "outputId": "d4b6026b-a623-4ccd-ee56-070255e5732e",
        "colab": {
          "base_uri": "https://localhost:8080/",
          "height": 34
        }
      },
      "source": [
        "lista_2[-1]['listinha'][-2:]"
      ],
      "execution_count": 21,
      "outputs": [
        {
          "output_type": "execute_result",
          "data": {
            "text/plain": [
              "(8, 9)"
            ]
          },
          "metadata": {
            "tags": []
          },
          "execution_count": 21
        }
      ]
    },
    {
      "cell_type": "code",
      "metadata": {
        "id": "D2Vm5HYIg7-w"
      },
      "source": [
        ""
      ],
      "execution_count": null,
      "outputs": []
    }
  ]
}